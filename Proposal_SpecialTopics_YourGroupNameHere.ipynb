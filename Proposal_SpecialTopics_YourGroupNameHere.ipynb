{
 "cells": [
  {
   "attachments": {},
   "cell_type": "markdown",
   "metadata": {},
   "source": [
    "# COGS 188 - Special Topics Proposal"
   ]
  },
  {
   "attachments": {},
   "cell_type": "markdown",
   "metadata": {},
   "source": [
    "# Project Description\n",
    "\n",
    "You have the choice of doing either (1) an AI solve a problem style project or (2) run a Special Topics class on a topic of your choice.  This repo is assuming you want to do (1).  If you want to do (1) you should fill out the _other_ proposal for that. This is the proposal description for (2).\n",
    "\n",
    "You will take a topic and run class for a lecture. In this proposal we would like to know the following information.\n",
    "\n",
    "- What is the topic? How will it be covered?  Make an outline.\n",
    "  -  What (sub)elements of the topic will you be covering?  \n",
    "  -  Highlight key points/takeaways for each (sub)element you want to cover\n",
    "- What is your pedagocial approach?\n",
    "   -  What readings will students be assigned?\n",
    "   -  Will slides/lecture be used?  \n",
    "      -  Covering which of the elements in the outline? \n",
    "      -  Delivered by whom?\n",
    "   -  What active learning methods be used?\n",
    "      -  Discussions? \n",
    "         -  On which elements? \n",
    "         -  For how long maximum? \n",
    "         -  What framework will you use to kick off discussion? \n",
    "      -  In-class exercises? \n",
    "         -  On which elements? \n",
    "         -  For how long maximum? \n",
    "         -  Describe the exercise briefly\n",
    "\n",
    "  \n",
    "\n",
    "It is possible to make a proposal without knowing all of these things in fine detail, but the closer you are to having an actual set of class materials the better.\n",
    "\n",
    "__!!!__ I will ask to review your class materials no later than 48 hours before you run class.  I may have feedback for you to make modifications no later than 24 hours in advance. You will be turning in those class materials to me as you final project __!!!__\n",
    "\n",
    "\n",
    "Here is an incomplete list of topics\n",
    "- Any chapter or section in Russel+Norvig that we didn't cover.  I'd especially call out:\n",
    "  - AI Philosophy\n",
    "  - Logic and/or planning\n",
    "  - Knowledge representation / Expert systems\n",
    "  - Robotics specific things like SLAM/Kalman filters\n",
    "  - Natural Language Processing\n",
    "  - Genetic Algorithms\n",
    "  - Causal learning in AI\n",
    "  - AI History\n",
    "  - AI Ethics\n",
    "- Any chapter or section in Sutton+Barto that we didn't cover.  I'd especially call out:\n",
    "  - Tabular methods\n",
    "  - Approximate solutions\n",
    "  - History\n",
    "  - Applications with Psychology/Neuroscience \n",
    "  - Technical applications\n",
    "- Any relevant and recent scientific advances, e.g.\n",
    "  - what are some really cool problems/benchmarks that other project groups might want to tackle?\n",
    "  - detailed discussion of AlphaGo\n",
    "  - how tf does RLHF work?\n",
    "  - deep Q networks / Atari 2600 benchmark\n",
    "  - Explainable AI\n",
    "  - Anything really! Scour blogs and see whats popular at NeurIPS\n",
    "\n",
    "Feel free to delete this description section when you hand in your proposal."
   ]
  },
  {
   "cell_type": "markdown",
   "metadata": {},
   "source": [
    "# Names\n",
    "\n",
    "Hopefully your team is at least this good. Obviously you should replace these with your names.\n",
    "\n",
    "- Pelé\n",
    "- Diego Maradonna\n",
    "- Johan Cruyff\n",
    "- Roberto Carlos\n",
    "- Franz Beckenbaur"
   ]
  },
  {
   "attachments": {},
   "cell_type": "markdown",
   "metadata": {},
   "source": [
    "# Topic and outline\n",
    "\n",
    "### Main topic\n",
    "20 to 200 words (less is better) describing what the topic is\n",
    "\n",
    "### Learning goal for students \n",
    "See my syllabus for examples of learning goals. One such was \"Students will be able to describe and apply Monte Carlo methods to perform dynamic programming and reinforcement learning\"\n",
    "\n",
    "\n",
    "### Outline of the topic\n",
    "  - Element 1\n",
    "    - __BOLD FACE KEYPOINT__ something you really want students to know\n",
    "    - Another less important element\n",
    "    - Something else\n",
    "  - Element 2\n",
    "    - __KEYPOINT 2a__ something blah\n",
    "    - 2b\n",
    "    - \n",
    "  - etc "
   ]
  },
  {
   "attachments": {},
   "cell_type": "markdown",
   "metadata": {},
   "source": [
    "# Pedagogy\n",
    "\n",
    "\n",
    "### Readings\n",
    "Citation for one or more readings students will need to consume before class. \n",
    "\n",
    "Each reading should be accompanied by 1 to 3 short paragraphs describing what the reading covers that you want students to know\n",
    "\n",
    "### Lecture description\n",
    "Include some details of what will be covered by traditional lecture.  A slide running order is ideal here, but probably unrealistic.  Include information about how you will apportion coverage between group members.\n",
    "\n",
    "### Active learning\n",
    "Include information about any discussions or exercises you will have students do.  Each active learning exercise needs 1 to 3 short paragraphs.  It should include \n",
    "- the element of the outline this will cover\n",
    "- brief description of framework you will provide to set off the discussion OR a description of the in class exercise\n",
    "- for how long maximum will this run? \n",
    "\n"
   ]
  },
  {
   "attachments": {},
   "cell_type": "markdown",
   "metadata": {},
   "source": [
    "# Dates\n",
    "- A list of at least \n",
    "- 3 different dates you would be happy to run your class\n",
    "- in descending order of preference"
   ]
  },
  {
   "cell_type": "markdown",
   "metadata": {},
   "source": [
    "# Team Expectations "
   ]
  },
  {
   "cell_type": "markdown",
   "metadata": {},
   "source": [
    "Put things here that cement how you will interact/communicate as a team, how you will handle conflict and difficulty, how you will handle making decisions and setting goals/schedule, how much work you expect from each other, how you will handle deadlines, etc...\n",
    "* *Team Expectation 1*\n",
    "* *Team Expectation 2*\n",
    "* *Team Expecation 3*\n",
    "* ..."
   ]
  },
  {
   "cell_type": "markdown",
   "metadata": {},
   "source": [
    "# Project Timeline Proposal"
   ]
  },
  {
   "cell_type": "markdown",
   "metadata": {},
   "source": [
    "Replace this with something meaningful that is appropriate for your needs. It doesn't have to be something that fits this format.  It doesn't have to be set in stone... \"no battle plan survives contact with the enemy\". But you need a battle plan nonetheless, and you need to keep it updated so you understand what you are trying to accomplish, who's responsible for what, and what the expected due dates are for each item.\n",
    "\n",
    "| Meeting Date  | Meeting Time| Completed Before Meeting  | Discuss at Meeting |\n",
    "|---|---|---|---|\n",
    "| 1/20  |  1 PM |  Brainstorm topics/questions (all)  | Determine best form of communication; Discuss and decide on final project topic; discuss hypothesis; begin background research | \n",
    "| 1/26  |  10 AM |  Do background research on topic (Pelé) | Discuss ideal dataset(s) and ethics; draft project proposal | \n",
    "| 2/1  | 10 AM  | Edit, finalize, and submit proposal; Search for datasets (Beckenbaur)  | Discuss Wrangling and possible analytical approaches; Assign group members to lead each specific part   |\n",
    "| 2/14  | 6 PM  | Import & Wrangle Data ,do some EDA (Maradonna) | Review/Edit wrangling/EDA; Discuss Analysis Plan   |\n",
    "| 2/23  | 12 PM  | Finalize wrangling/EDA; Begin programming for project (Cruyff) | Discuss/edit project code; Complete project |\n",
    "| 3/13  | 12 PM  | Complete analysis; Draft results/conclusion/discussion (Carlos)| Discuss/edit full project |\n",
    "| 3/19  | Before 11:59 PM  | NA | Turn in Final Project  |"
   ]
  }
 ],
 "metadata": {
  "kernelspec": {
   "display_name": "Python 3",
   "language": "python",
   "name": "python3"
  },
  "language_info": {
   "codemirror_mode": {
    "name": "ipython",
    "version": 3
   },
   "file_extension": ".py",
   "mimetype": "text/x-python",
   "name": "python",
   "nbconvert_exporter": "python",
   "pygments_lexer": "ipython3",
   "version": "3.7.11 (default, Jul 27 2021, 07:03:16) \n[Clang 10.0.0 ]"
  },
  "vscode": {
   "interpreter": {
    "hash": "40d3a090f54c6569ab1632332b64b2c03c39dcf918b08424e98f38b5ae0af88f"
   }
  }
 },
 "nbformat": 4,
 "nbformat_minor": 2
}
